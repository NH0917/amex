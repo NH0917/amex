{
  "nbformat": 4,
  "nbformat_minor": 0,
  "metadata": {
    "colab": {
      "provenance": [],
      "mount_file_id": "14IDKuzqvVUF0v3KKJkUpK6DEGrdZJ6SF",
      "authorship_tag": "ABX9TyOQ16mSPUpY5MLULicDxBKy",
      "include_colab_link": true
    },
    "kernelspec": {
      "name": "python3",
      "display_name": "Python 3"
    },
    "language_info": {
      "name": "python"
    }
  },
  "cells": [
    {
      "cell_type": "markdown",
      "metadata": {
        "id": "view-in-github",
        "colab_type": "text"
      },
      "source": [
        "<a href=\"https://colab.research.google.com/github/NH0917/amex/blob/main/model4.ipynb\" target=\"_parent\"><img src=\"https://colab.research.google.com/assets/colab-badge.svg\" alt=\"Open In Colab\"/></a>"
      ]
    },
    {
      "cell_type": "code",
      "source": [
        "!pip install catboost"
      ],
      "metadata": {
        "colab": {
          "base_uri": "https://localhost:8080/"
        },
        "id": "5BRCnyCsHFnV",
        "outputId": "2fe045f7-ced8-44d6-ef78-1f393d2efcfe"
      },
      "execution_count": null,
      "outputs": [
        {
          "output_type": "stream",
          "name": "stdout",
          "text": [
            "Collecting catboost\n",
            "  Downloading catboost-1.2.5-cp310-cp310-manylinux2014_x86_64.whl.metadata (1.2 kB)\n",
            "Requirement already satisfied: graphviz in /usr/local/lib/python3.10/dist-packages (from catboost) (0.20.3)\n",
            "Requirement already satisfied: matplotlib in /usr/local/lib/python3.10/dist-packages (from catboost) (3.7.1)\n",
            "Requirement already satisfied: numpy>=1.16.0 in /usr/local/lib/python3.10/dist-packages (from catboost) (1.26.4)\n",
            "Requirement already satisfied: pandas>=0.24 in /usr/local/lib/python3.10/dist-packages (from catboost) (2.1.4)\n",
            "Requirement already satisfied: scipy in /usr/local/lib/python3.10/dist-packages (from catboost) (1.13.1)\n",
            "Requirement already satisfied: plotly in /usr/local/lib/python3.10/dist-packages (from catboost) (5.15.0)\n",
            "Requirement already satisfied: six in /usr/local/lib/python3.10/dist-packages (from catboost) (1.16.0)\n",
            "Requirement already satisfied: python-dateutil>=2.8.2 in /usr/local/lib/python3.10/dist-packages (from pandas>=0.24->catboost) (2.8.2)\n",
            "Requirement already satisfied: pytz>=2020.1 in /usr/local/lib/python3.10/dist-packages (from pandas>=0.24->catboost) (2024.1)\n",
            "Requirement already satisfied: tzdata>=2022.1 in /usr/local/lib/python3.10/dist-packages (from pandas>=0.24->catboost) (2024.1)\n",
            "Requirement already satisfied: contourpy>=1.0.1 in /usr/local/lib/python3.10/dist-packages (from matplotlib->catboost) (1.2.1)\n",
            "Requirement already satisfied: cycler>=0.10 in /usr/local/lib/python3.10/dist-packages (from matplotlib->catboost) (0.12.1)\n",
            "Requirement already satisfied: fonttools>=4.22.0 in /usr/local/lib/python3.10/dist-packages (from matplotlib->catboost) (4.53.1)\n",
            "Requirement already satisfied: kiwisolver>=1.0.1 in /usr/local/lib/python3.10/dist-packages (from matplotlib->catboost) (1.4.5)\n",
            "Requirement already satisfied: packaging>=20.0 in /usr/local/lib/python3.10/dist-packages (from matplotlib->catboost) (24.1)\n",
            "Requirement already satisfied: pillow>=6.2.0 in /usr/local/lib/python3.10/dist-packages (from matplotlib->catboost) (9.4.0)\n",
            "Requirement already satisfied: pyparsing>=2.3.1 in /usr/local/lib/python3.10/dist-packages (from matplotlib->catboost) (3.1.2)\n",
            "Requirement already satisfied: tenacity>=6.2.0 in /usr/local/lib/python3.10/dist-packages (from plotly->catboost) (9.0.0)\n",
            "Downloading catboost-1.2.5-cp310-cp310-manylinux2014_x86_64.whl (98.2 MB)\n",
            "\u001b[2K   \u001b[90m━━━━━━━━━━━━━━━━━━━━━━━━━━━━━━━━━━━━━━━━\u001b[0m \u001b[32m98.2/98.2 MB\u001b[0m \u001b[31m5.2 MB/s\u001b[0m eta \u001b[36m0:00:00\u001b[0m\n",
            "\u001b[?25hInstalling collected packages: catboost\n",
            "Successfully installed catboost-1.2.5\n"
          ]
        }
      ]
    },
    {
      "cell_type": "code",
      "execution_count": null,
      "metadata": {
        "id": "iZyXUJnSfVfS"
      },
      "outputs": [],
      "source": [
        "import polars as pl\n",
        "import seaborn as sns\n",
        "import matplotlib.pyplot as plt\n",
        "import unicodedata\n",
        "import numpy as np\n",
        "import pandas as pd\n",
        "from sklearn.preprocessing import LabelEncoder\n",
        "from sklearn.metrics import accuracy_score\n",
        "from sklearn.model_selection import StratifiedKFold\n",
        "from catboost import Pool,CatBoostClassifier\n",
        "from sklearn.metrics import roc_auc_score\n",
        "from imblearn.under_sampling import RandomUnderSampler\n",
        "import itertools"
      ]
    },
    {
      "cell_type": "code",
      "source": [
        "train_path = \"/content/drive/MyDrive/signate/cup/data/train.csv\"\n",
        "test_path = \"/content/drive/MyDrive/signate/cup/data/test.csv\""
      ],
      "metadata": {
        "id": "HNHcNgifMnYa"
      },
      "execution_count": null,
      "outputs": []
    },
    {
      "cell_type": "code",
      "source": [
        "train = pl.read_csv(train_path)\n",
        "test = pl.read_csv(test_path)"
      ],
      "metadata": {
        "id": "fuK5ECKqMrDp"
      },
      "execution_count": null,
      "outputs": []
    },
    {
      "cell_type": "code",
      "source": [
        "age_map ={\n",
        "    \"一\":10,\n",
        "    \"二\":20,\n",
        "    \"三\":30,\n",
        "    \"四\":40,\n",
        "    \"五\":50,\n",
        "    \"六\":60,\n",
        "    \"七\":70,\n",
        "    \"八\":80,\n",
        "    \"九\":90,\n",
        "    \"十\":10,\n",
        "    \"1\":10,\n",
        "    \"2\":20,\n",
        "    \"3\":30,\n",
        "    \"4\":40,\n",
        "    \"5\":50,\n",
        "    \"6\":60,\n",
        "    \"7\":70,\n",
        "    \"8\":80,\n",
        "    \"9\":90,\n",
        "    \"１\":10,\n",
        "    \"２\":20,\n",
        "    \"３\":30,\n",
        "    \"４\":40,\n",
        "    \"５\":50,\n",
        "    \"６\":60,\n",
        "    \"７\":70,\n",
        "    \"８\":80,\n",
        "    \"９\":90,\n",
        "}\n",
        "\n",
        "gender_map ={\n",
        "    \"female\":0,\n",
        "    \"male\":1\n",
        "}\n",
        "\n",
        "customer_info1_map = {\n",
        "    \"独身\":1,\n",
        "\"離婚済み\":1,\n",
        "\"未婚\":1,\n",
        "\"結婚済み\":0}\n",
        "\n",
        "customer_info2_map = {\n",
        "    \"車所持\":1,\n",
        "\"車なし\":0,\n",
        "\"自家用車なし\":0,\n",
        "\"車未所持\":0,\n",
        "\"自動車未所有\":0,\n",
        "\"車あり\":1,\n",
        "\"自家用車あり\":1,\n",
        "\"乗用車なし\":0,\n",
        "\"自動車所有\":1,\n",
        "\"車保有\":1,\n",
        "\"車保有なし\":0,\n",
        "\"乗用車所持\":1\n",
        "}\n",
        "\n",
        "customer_info3_map ={\n",
        "    \"子供の数不明\":0,\n",
        "\"子の数不詳\":0,\n",
        "\"2児\":1,\n",
        "\"非育児家庭\":0,\n",
        "\"子供有り(2人)\":1,\n",
        "\"子供無し\":0,\n",
        "\"こども2人\":1,\n",
        "\"不明\":0,\n",
        "\"子供なし\":0,\n",
        "\"こども1人\":1,\n",
        "\"こども3人\":1,\n",
        "\"1児\":1,\n",
        "\"わからない\":0,\n",
        "\"子供3人\":1,\n",
        "\"子供有り\":1,\n",
        "\"子供有り(1人)\":1,\n",
        "\"3児\":1,\n",
        "\"子供1人\":1,\n",
        "\"子育て状況不明\":0,\n",
        "\"子供2人\":1,\n",
        "\"無子\":0,\n",
        "\"子供有り(3人)\":1,\n",
        "\"子供ゼロ\":0\n",
        "\n",
        "}\n",
        "\n",
        "product_map ={\n",
        "    \"basiс\":\"basic\",\n",
        "    \"вasic\":\"basic\",\n",
        "    \"superdeluxe\":\"superdeluxe\",\n",
        "    \"delu×e\":\"deluxe\",\n",
        "    \"βasic\":\"basic\",\n",
        "    \"de|uxe\":\"deluxe\",\n",
        "    \"kıոg\":\"king\",\n",
        "    \"տuperdeluxe\":\"superdeluxe\",\n",
        "    \"standard\":\"standard\",\n",
        "    \"kiոg\":\"king\",\n",
        "    \"ꭰeluxe\":\"deluxe\",\n",
        "    \"basιc\":\"basic\",\n",
        "    \"superdεluxe\":\"superdeluxe\",\n",
        "    \"superꭰeluxe\":\"superdeluxe\",\n",
        "    \"𐊡asic\":\"basic\",\n",
        "    \"king\":\"king\",\n",
        "    \"ꓢuperdeluxe\":\"superdeluxe\",\n",
        "    \"deluxε\":\"deluxe\",\n",
        "    \"baꓢic\":\"basic\",\n",
        "    \"baտic\":\"basic\",\n",
        "    \"ѕuperdeluxe\":\"superdeluxe\",\n",
        "    \"basıς\":\"basic\",\n",
        "    \"տtandard\":\"standard\",\n",
        "    \"basiς\":\"basic\",\n",
        "    \"basic\":\"basic\",\n",
        "    \"staոdard\":\"standard\",\n",
        "    \"deluxe\":\"deluxe\",\n",
        "    \"stanᗞard\":\"standard\",\n",
        "    \"ᗞeluxe\":\"deluxe\",\n",
        "    \"βasıc\":\"basic\",\n",
        "    \"bαsic\":\"basic\",\n",
        "    \"superde|uxe\":\"superdeluxe\",\n",
        "    \"standarꭰ\":\"standard\",\n",
        "    \"de|u×e\":\"deluxe\",\n",
        "    \"kıng\":\"king\",\n",
        "    \"ꓢtandard\":\"standard\",\n",
        "    \"ꓢuperde|uxe\":\"superdeluxe\",\n",
        "    \"superᗞeluxe\":\"superdeluxe\",\n",
        "    \"ѕtandard\":\"standard\",\n",
        "    \"βasiс\":\"basic\",\n",
        "    \"dεluxε\":\"deluxe\",\n",
        "    \"basıc\":\"basic\"\n",
        "}\n",
        "\n",
        "typeofcontact_map = {\n",
        "    \"Self Enquiry\":0,\n",
        "    \"Company Invited\":1,\n",
        "}"
      ],
      "metadata": {
        "id": "A4WsjxmzOhOO"
      },
      "execution_count": null,
      "outputs": []
    },
    {
      "cell_type": "code",
      "source": [
        "def preprocessing(df):\n",
        "  #Age cleansing\n",
        "  df = df.with_columns(pl.col(\"Age\").fill_null(0))\n",
        "  df = df.with_columns(pl.col(\"Age\").str.slice(0,1))\n",
        "  df = df.with_columns(pl.col(\"Age\").replace(age_map))\n",
        "  df = df.with_columns(pl.col(\"Age\").cast(pl.Int64))\n",
        "\n",
        "  #cvt duration of pitch sec->min\n",
        "  df = df.with_columns(\n",
        "    pl.when(\n",
        "    pl.col(\"DurationOfPitch\").str.contains(\"秒\"))\n",
        "    .then(pl.lit(\"Y\").alias(\"DurationFlag\"))\n",
        "    .otherwise(pl.lit(\"N\").alias(\"DurationFlag\"))\n",
        ")\n",
        "\n",
        "  df = df.with_columns(pl.col(\"DurationOfPitch\").str.replace(\"秒\",\"\"))\n",
        "  df = df.with_columns(pl.col(\"DurationOfPitch\").str.replace(\"分\",\"\"))\n",
        "  df = df.with_columns(pl.col(\"DurationOfPitch\").cast(pl.Int64))\n",
        "  df = df.with_columns(\n",
        "      pl.when(pl.col(\"DurationFlag\")==\"Y\").then(pl.col(\"DurationOfPitch\")/60).otherwise(pl.col(\"DurationOfPitch\"))\n",
        "  )\n",
        "\n",
        "  df = df.with_columns(pl.col(\"DurationOfPitch\")).fill_null(0)\n",
        "\n",
        "  #cvt gender to one-hot\n",
        "  df = df.with_columns(pl.col(\"Gender\").map_elements(lambda x: unicodedata.normalize(\"NFKC\",x)).str.to_lowercase().str.replace(\" \",\"\"))\n",
        "  df = df.with_columns(pl.col(\"Gender\").replace(gender_map))\n",
        "\n",
        "  #cvt customer_info\n",
        "  df = df.with_columns(pl.col(\"customer_info\").str.replace_all(\",|/|／|、|　|\\t|\\n| \",\"-\"))\n",
        "  df = df.with_columns(pl.col(\"customer_info\").str.split(\"-\"))\n",
        "  df = df.with_columns((pl.col(\"customer_info\").list.get(0)).alias(\"customer_info1\"))\n",
        "  df = df.with_columns((pl.col(\"customer_info\").list.get(1)).alias(\"customer_info2\"))\n",
        "  df = df.with_columns((pl.col(\"customer_info\").list.get(2)).alias(\"customer_info3\"))\n",
        "\n",
        "  df = df.with_columns(pl.col(\"customer_info1\").replace(customer_info1_map))\n",
        "  df = df.with_columns(pl.col(\"customer_info2\").replace(customer_info2_map))\n",
        "  df = df.with_columns(pl.col(\"customer_info3\").replace(customer_info3_map))\n",
        "\n",
        "  #NumberOfFollowups\n",
        "  df = df.with_columns(\n",
        "    pl.when(pl.col(\"NumberOfFollowups\")>=100).then(pl.col(\"NumberOfFollowups\")/100).otherwise(pl.col(\"NumberOfFollowups\")\n",
        "  )\n",
        "  )\n",
        "\n",
        "  #cvt number of trips\n",
        "  df = df.with_columns(\n",
        "    pl.when(\n",
        "        pl.col(\"NumberOfTrips\").str.contains(\"半年に\")\n",
        "    ).then(pl.lit(2).alias(\"MultiNum\")\n",
        "    ).when(pl.col(\"NumberOfTrips\").str.contains(\"四半期に\")\n",
        "    ).then(pl.lit(4).alias(\"MultiNum\")\n",
        "    ).otherwise(pl.lit(1).alias(\"MultiNum\")\n",
        "        )\n",
        "    )\n",
        "\n",
        "  #product\n",
        "  df = df.with_columns(pl.col(\"ProductPitched\").map_elements(lambda x: unicodedata.normalize(\"NFKC\",x)).str.to_lowercase().str.replace(\" \",\"\"))\n",
        "  df = df.with_columns(\n",
        "      pl.col(\"ProductPitched\").replace(product_map).fill_null(\"other\")\n",
        "  )\n",
        "\n",
        "  df = df.with_columns(pl.col(\"NumberOfTrips\").str.extract(r\".*(\\d{1,2})\"))\n",
        "  df = df.with_columns(pl.col(\"NumberOfTrips\").cast(pl.Int64()))\n",
        "  df = df.with_columns((pl.col(\"NumberOfTrips\")*pl.col(\"MultiNum\")).alias(\"NumberOfTrips_cvt\"))\n",
        "\n",
        "  df = df.with_columns(\n",
        "    pl.when(pl.col(\"MonthlyIncome\").str.contains(\"万\")\n",
        "    ).then(pl.lit(\"Yes\").alias(\"MonthlyIncomeFlag\")).otherwise(pl.lit(\"No\").alias(\"MonthlyIncomeFlag\")))\n",
        "  df = df.with_columns(\n",
        "      pl.when(pl.col(\"MonthlyIncome\").str.contains(\"万\")\n",
        "  ).then(pl.col(\"MonthlyIncome\").str.extract(r\"月収(\\d{1,3})\")).otherwise(pl.col(\"MonthlyIncome\"))\n",
        "  )\n",
        "  df = df.with_columns(\n",
        "      pl.when(pl.col(\"MonthlyIncomeFlag\").eq(\"Yes\")).then(pl.col(\"MonthlyIncome\").cast(pl.Float64())*10000).otherwise(pl.col(\"MonthlyIncome\").cast(pl.Float64())\n",
        "  ))\n",
        "  df = df.drop(\"MonthlyIncomeFlag\")\n",
        "\n",
        "  df = df.with_columns(pl.col(\"TypeofContact\").replace(typeofcontact_map).fill_null(2))\n",
        "\n",
        "  df = df.fill_null(0)\n",
        "\n",
        "  return df"
      ],
      "metadata": {
        "id": "SgJ7FtDP3oyc"
      },
      "execution_count": null,
      "outputs": []
    },
    {
      "cell_type": "code",
      "source": [
        "cat_features = [\"Age\",\"TypeofContact\",\"CityTier\",\"Gender\",\"NumberOfPersonVisiting\",\"NumberOfFollowups\",\"PreferredPropertyStar\",\"ProductPitched\",\"NumberOfTrips_cvt\",\"Passport\",\"PitchSatisfactionScore\",\"customer_info1\",\"customer_info2\",\"customer_info3\",\"MonthlyIncome\",\"DurationOfPitch\"]\n",
        "feature_col = cat_features.copy()"
      ],
      "metadata": {
        "id": "T9y9SSF6H6eO"
      },
      "execution_count": null,
      "outputs": []
    },
    {
      "cell_type": "code",
      "source": [
        "train = preprocessing(train)\n",
        "train = train.select(feature_col+[\"ProdTaken\"])\n",
        "\n",
        "#train = train.with_columns(pl.col(cat_features).cast(pl.Int64()))\n",
        "train = train.to_pandas()\n",
        "\n",
        "test = preprocessing(test)\n",
        "test = test.select(feature_col)\n",
        "\n",
        "#train = train.with_columns(pl.col(cat_features).cast(pl.Int64()))\n",
        "test = test.to_pandas()\n",
        "\n"
      ],
      "metadata": {
        "id": "qlZFpLEbZAIw"
      },
      "execution_count": null,
      "outputs": []
    },
    {
      "cell_type": "code",
      "source": [
        "customer_group = [\"CityTier\",\"PreferredPropertyStar\",\"NumberOfTrips_cvt\",\"Passport\",\"MonthlyIncome_ceil_10_000\",\"MonthlyIncome_ceil_100_000\",\"customer_info1\",\"customer_info2\",\"customer_info3\",\"ProductPitched\"]"
      ],
      "metadata": {
        "id": "MIQX7fSwPx7P"
      },
      "execution_count": null,
      "outputs": []
    },
    {
      "cell_type": "code",
      "source": [
        "pair_col = []\n",
        "\n",
        "for i in range(1,10):\n",
        "  for pair in itertools.combinations(customer_group,i):\n",
        "    pair = list(pair)\n",
        "    pair.extend([\"Age\",\"Gender\"])\n",
        "    pair_col.append(pair)"
      ],
      "metadata": {
        "id": "N0LcEWH9SlKM"
      },
      "execution_count": null,
      "outputs": []
    },
    {
      "cell_type": "code",
      "source": [
        "def customer_pair(df,col):\n",
        "  temp = df[col].copy()\n",
        "  temp[col] = temp[col].astype(str)\n",
        "  create_feature = temp[col].apply(lambda x: \"_\".join(x),axis=1)\n",
        "  return create_feature"
      ],
      "metadata": {
        "id": "9k84irchZ7pj"
      },
      "execution_count": null,
      "outputs": []
    },
    {
      "cell_type": "code",
      "source": [
        "def create_monthlyincome_feature(df):\n",
        "  df[\"MonthlyIncome_ceil_10_000\"] = df[\"MonthlyIncome\"].apply(lambda x: (x//10_000)*10_000)\n",
        "  df[\"MonthlyIncome_ceil_100_000\"] = df[\"MonthlyIncome\"].apply(lambda x: (x//100_000)*100_000)\n",
        "  return df"
      ],
      "metadata": {
        "id": "NTHR3TH8v8or"
      },
      "execution_count": null,
      "outputs": []
    },
    {
      "cell_type": "code",
      "source": [
        "train = create_monthlyincome_feature(train)\n",
        "test = create_monthlyincome_feature(test)"
      ],
      "metadata": {
        "id": "ZY87cW6TrMRl"
      },
      "execution_count": null,
      "outputs": []
    },
    {
      "cell_type": "code",
      "source": [
        "import warnings\n",
        "warnings.filterwarnings(\"ignore\")"
      ],
      "metadata": {
        "id": "B5JP6qbnyqBS"
      },
      "execution_count": null,
      "outputs": []
    },
    {
      "cell_type": "code",
      "source": [
        "create_col = []\n",
        "for col in pair_col:\n",
        "  col_name = \"_\".join(col)\n",
        "  train[col_name] = customer_pair(train,col)\n",
        "  create_col.append(col_name)"
      ],
      "metadata": {
        "id": "gGxMT3_xXgPi"
      },
      "execution_count": null,
      "outputs": []
    },
    {
      "cell_type": "code",
      "source": [
        "for col in pair_col:\n",
        "  col_name = \"_\".join(col)\n",
        "  test[col_name] = customer_pair(test,col)\n",
        "  create_col.append(col_name)"
      ],
      "metadata": {
        "id": "103OHY--NQBv"
      },
      "execution_count": null,
      "outputs": []
    },
    {
      "cell_type": "code",
      "source": [
        "train[\"ProductPitched_PitchSatisfactionScore\"] = train[\"ProductPitched\"]+\"_\"+train[\"PitchSatisfactionScore\"].astype(str)\n",
        "test[\"ProductPitched_PitchSatisfactionScore\"] = test[\"ProductPitched\"]+\"_\"+test[\"PitchSatisfactionScore\"].astype(str)"
      ],
      "metadata": {
        "id": "PBNlfMusq0ks"
      },
      "execution_count": null,
      "outputs": []
    },
    {
      "cell_type": "code",
      "source": [
        "for col in train.columns:\n",
        "  if train[col].dtype == \"float64\":\n",
        "    train[col] = train[col].astype(int)"
      ],
      "metadata": {
        "id": "GV1gQDA1N25F"
      },
      "execution_count": null,
      "outputs": []
    },
    {
      "cell_type": "code",
      "source": [
        "for col in test.columns:\n",
        "  if test[col].dtype == \"float64\":\n",
        "    test[col] = test[col].astype(int)"
      ],
      "metadata": {
        "id": "Sbu7N4SdzV1P"
      },
      "execution_count": null,
      "outputs": []
    },
    {
      "cell_type": "code",
      "source": [
        "cat_features = ['ProductPitched', 'ProductPitched_PitchSatisfactionScore',\n",
        "       'Passport_customer_info1_Age_Gender', 'Passport_Age_Gender',\n",
        "       'MonthlyIncome_ceil_100_000', 'Passport',\n",
        "       'customer_info1_customer_info3_Age_Gender',\n",
        "       'Passport_customer_info2_Age_Gender', 'NumberOfPersonVisiting',\n",
        "       'PreferredPropertyStar', 'Age',\n",
        "       'NumberOfTrips_cvt_Passport_Age_Gender', 'NumberOfTrips_cvt',\n",
        "       'Passport_customer_info1_customer_info2_Age_Gender',\n",
        "       'Passport_MonthlyIncome_ceil_100_000_customer_info3_Age_Gender',\n",
        "       'CityTier', 'customer_info1_Age_Gender',\n",
        "       'Passport_customer_info1_customer_info3_Age_Gender',\n",
        "       'Passport_MonthlyIncome_ceil_100_000_Age_Gender',\n",
        "       'PitchSatisfactionScore',\n",
        "       'PreferredPropertyStar_Passport_customer_info1_Age_Gender']\n",
        "\n",
        "train = train[cat_features+[\"ProdTaken\"]]\n",
        "test = test[cat_features]"
      ],
      "metadata": {
        "id": "b86pK5MuwLoI"
      },
      "execution_count": null,
      "outputs": []
    },
    {
      "cell_type": "code",
      "source": [
        "random_state = 0\n",
        "\n",
        "auc_list = []\n",
        "models_list = []\n",
        "\n",
        "oof_dfs = pd.DataFrame()\n",
        "\n",
        "skf = StratifiedKFold(n_splits=5, shuffle=True, random_state=random_state)\n",
        "for i,(train_index,val_index) in enumerate(skf.split(train,train[\"ProdTaken\"])):\n",
        "\n",
        "    train_df = train.loc[train_index,:].reset_index(drop=True)\n",
        "    val_df = train.loc[val_index,:].reset_index(drop=True)\n",
        "\n",
        "    pos_count = int(train_df[\"ProdTaken\"].value_counts()[1]*0.8)\n",
        "    neg_count = int(train_df[\"ProdTaken\"].value_counts()[0]*0.8)\n",
        "\n",
        "    oof_df = pd.DataFrame()\n",
        "    for seed in range(5):\n",
        "      rus = RandomUnderSampler(random_state=seed,sampling_strategy={0:pos_count,1:pos_count})\n",
        "      train_X,train_y = rus.fit_resample(train_df.drop(columns=\"ProdTaken\",axis=1),train_df[\"ProdTaken\"])\n",
        "      train_pool = Pool(train_X,train_y,cat_features=cat_features)\n",
        "      val_pool = Pool(val_df.drop(\"ProdTaken\",axis=1),val_df[\"ProdTaken\"],cat_features=cat_features)\n",
        "      model = CatBoostClassifier(random_seed=random_state,eval_metric=\"AUC\",scale_pos_weight=0.85)\n",
        "      model.fit(train_pool,eval_set=val_pool,early_stopping_rounds=10,use_best_model=True,verbose=False)\n",
        "\n",
        "      y_pred = model.predict_proba(val_pool)[:,1]\n",
        "      oof_df[f\"seed_{seed}\"] = y_pred\n",
        "      model.save_model(f\"model_{i}_{seed}\")\n",
        "    val_df[[\"pred_1\",\"pred2\",\"pred3\",\"pred4\",\"pred5\"]] = oof_df\n",
        "    oof_dfs = pd.concat([oof_dfs,val_df[[\"pred_1\",\"pred2\",\"pred3\",\"pred4\",\"pred5\",\"ProdTaken\"]]],axis=\"index\")\n"
      ],
      "metadata": {
        "id": "U30ktD5w1taU"
      },
      "execution_count": null,
      "outputs": []
    },
    {
      "cell_type": "code",
      "source": [
        "roc_auc_score(oof_dfs[\"ProdTaken\"],oof_dfs[\"predict\"])"
      ],
      "metadata": {
        "colab": {
          "base_uri": "https://localhost:8080/"
        },
        "id": "E4E4yATj15MX",
        "outputId": "214801e2-34d0-49a9-a3ec-3e8cbf5151ae"
      },
      "execution_count": null,
      "outputs": [
        {
          "output_type": "execute_result",
          "data": {
            "text/plain": [
              "0.8163281157533436"
            ]
          },
          "metadata": {},
          "execution_count": 22
        }
      ]
    },
    {
      "cell_type": "code",
      "source": [
        "roc_auc_score(oof_dfs[\"ProdTaken\"],oof_dfs[\"predict\"])"
      ],
      "metadata": {
        "colab": {
          "base_uri": "https://localhost:8080/"
        },
        "id": "ad8EBzKoWD7Q",
        "outputId": "13e58cad-8a14-4be4-dd3d-41ad4fa5ee2f"
      },
      "execution_count": null,
      "outputs": [
        {
          "output_type": "execute_result",
          "data": {
            "text/plain": [
              "0.8163281157533436"
            ]
          },
          "metadata": {},
          "execution_count": 23
        }
      ]
    },
    {
      "cell_type": "code",
      "source": [
        "oof_dfs.reset_index(drop=True,inplace=True)"
      ],
      "metadata": {
        "id": "zwQR7bfg9wiS"
      },
      "execution_count": null,
      "outputs": []
    },
    {
      "cell_type": "code",
      "source": [
        "oof_dfs[\"pred_1\"]"
      ],
      "metadata": {
        "colab": {
          "base_uri": "https://localhost:8080/",
          "height": 458
        },
        "id": "eUpJvLdY-5C8",
        "outputId": "81eefb70-ef05-4b46-92f3-8a9935b8705a"
      },
      "execution_count": null,
      "outputs": [
        {
          "output_type": "execute_result",
          "data": {
            "text/plain": [
              "0       0.716883\n",
              "1       0.325148\n",
              "2       0.338005\n",
              "3       0.636048\n",
              "4       0.367850\n",
              "          ...   \n",
              "3484    0.406039\n",
              "3485    0.405346\n",
              "3486    0.417471\n",
              "3487    0.418308\n",
              "3488    0.504992\n",
              "Name: pred_1, Length: 3489, dtype: float64"
            ],
            "text/html": [
              "<div>\n",
              "<style scoped>\n",
              "    .dataframe tbody tr th:only-of-type {\n",
              "        vertical-align: middle;\n",
              "    }\n",
              "\n",
              "    .dataframe tbody tr th {\n",
              "        vertical-align: top;\n",
              "    }\n",
              "\n",
              "    .dataframe thead th {\n",
              "        text-align: right;\n",
              "    }\n",
              "</style>\n",
              "<table border=\"1\" class=\"dataframe\">\n",
              "  <thead>\n",
              "    <tr style=\"text-align: right;\">\n",
              "      <th></th>\n",
              "      <th>pred_1</th>\n",
              "    </tr>\n",
              "  </thead>\n",
              "  <tbody>\n",
              "    <tr>\n",
              "      <th>0</th>\n",
              "      <td>0.716883</td>\n",
              "    </tr>\n",
              "    <tr>\n",
              "      <th>1</th>\n",
              "      <td>0.325148</td>\n",
              "    </tr>\n",
              "    <tr>\n",
              "      <th>2</th>\n",
              "      <td>0.338005</td>\n",
              "    </tr>\n",
              "    <tr>\n",
              "      <th>3</th>\n",
              "      <td>0.636048</td>\n",
              "    </tr>\n",
              "    <tr>\n",
              "      <th>4</th>\n",
              "      <td>0.367850</td>\n",
              "    </tr>\n",
              "    <tr>\n",
              "      <th>...</th>\n",
              "      <td>...</td>\n",
              "    </tr>\n",
              "    <tr>\n",
              "      <th>3484</th>\n",
              "      <td>0.406039</td>\n",
              "    </tr>\n",
              "    <tr>\n",
              "      <th>3485</th>\n",
              "      <td>0.405346</td>\n",
              "    </tr>\n",
              "    <tr>\n",
              "      <th>3486</th>\n",
              "      <td>0.417471</td>\n",
              "    </tr>\n",
              "    <tr>\n",
              "      <th>3487</th>\n",
              "      <td>0.418308</td>\n",
              "    </tr>\n",
              "    <tr>\n",
              "      <th>3488</th>\n",
              "      <td>0.504992</td>\n",
              "    </tr>\n",
              "  </tbody>\n",
              "</table>\n",
              "<p>3489 rows × 1 columns</p>\n",
              "</div><br><label><b>dtype:</b> float64</label>"
            ]
          },
          "metadata": {},
          "execution_count": 36
        }
      ]
    },
    {
      "cell_type": "code",
      "source": [
        "oof_dfs.head()"
      ],
      "metadata": {
        "colab": {
          "base_uri": "https://localhost:8080/",
          "height": 206
        },
        "id": "7QTaGtsL_V98",
        "outputId": "e2392bdd-8e25-40f9-8f21-df864d8c7cc6"
      },
      "execution_count": null,
      "outputs": [
        {
          "output_type": "execute_result",
          "data": {
            "text/plain": [
              "     pred_1     pred2     pred3     pred4     pred5  ProdTaken\n",
              "0  0.716883  0.739070  0.692156  0.709663  0.620307          1\n",
              "1  0.325148  0.345831  0.379030  0.355938  0.414696          0\n",
              "2  0.338005  0.354300  0.363594  0.321599  0.425877          0\n",
              "3  0.636048  0.608678  0.565658  0.694815  0.576913          1\n",
              "4  0.367850  0.333119  0.351033  0.351911  0.423099          0"
            ],
            "text/html": [
              "\n",
              "  <div id=\"df-b0b619b3-6445-434e-89c7-182e2a8ddb78\" class=\"colab-df-container\">\n",
              "    <div>\n",
              "<style scoped>\n",
              "    .dataframe tbody tr th:only-of-type {\n",
              "        vertical-align: middle;\n",
              "    }\n",
              "\n",
              "    .dataframe tbody tr th {\n",
              "        vertical-align: top;\n",
              "    }\n",
              "\n",
              "    .dataframe thead th {\n",
              "        text-align: right;\n",
              "    }\n",
              "</style>\n",
              "<table border=\"1\" class=\"dataframe\">\n",
              "  <thead>\n",
              "    <tr style=\"text-align: right;\">\n",
              "      <th></th>\n",
              "      <th>pred_1</th>\n",
              "      <th>pred2</th>\n",
              "      <th>pred3</th>\n",
              "      <th>pred4</th>\n",
              "      <th>pred5</th>\n",
              "      <th>ProdTaken</th>\n",
              "    </tr>\n",
              "  </thead>\n",
              "  <tbody>\n",
              "    <tr>\n",
              "      <th>0</th>\n",
              "      <td>0.716883</td>\n",
              "      <td>0.739070</td>\n",
              "      <td>0.692156</td>\n",
              "      <td>0.709663</td>\n",
              "      <td>0.620307</td>\n",
              "      <td>1</td>\n",
              "    </tr>\n",
              "    <tr>\n",
              "      <th>1</th>\n",
              "      <td>0.325148</td>\n",
              "      <td>0.345831</td>\n",
              "      <td>0.379030</td>\n",
              "      <td>0.355938</td>\n",
              "      <td>0.414696</td>\n",
              "      <td>0</td>\n",
              "    </tr>\n",
              "    <tr>\n",
              "      <th>2</th>\n",
              "      <td>0.338005</td>\n",
              "      <td>0.354300</td>\n",
              "      <td>0.363594</td>\n",
              "      <td>0.321599</td>\n",
              "      <td>0.425877</td>\n",
              "      <td>0</td>\n",
              "    </tr>\n",
              "    <tr>\n",
              "      <th>3</th>\n",
              "      <td>0.636048</td>\n",
              "      <td>0.608678</td>\n",
              "      <td>0.565658</td>\n",
              "      <td>0.694815</td>\n",
              "      <td>0.576913</td>\n",
              "      <td>1</td>\n",
              "    </tr>\n",
              "    <tr>\n",
              "      <th>4</th>\n",
              "      <td>0.367850</td>\n",
              "      <td>0.333119</td>\n",
              "      <td>0.351033</td>\n",
              "      <td>0.351911</td>\n",
              "      <td>0.423099</td>\n",
              "      <td>0</td>\n",
              "    </tr>\n",
              "  </tbody>\n",
              "</table>\n",
              "</div>\n",
              "    <div class=\"colab-df-buttons\">\n",
              "\n",
              "  <div class=\"colab-df-container\">\n",
              "    <button class=\"colab-df-convert\" onclick=\"convertToInteractive('df-b0b619b3-6445-434e-89c7-182e2a8ddb78')\"\n",
              "            title=\"Convert this dataframe to an interactive table.\"\n",
              "            style=\"display:none;\">\n",
              "\n",
              "  <svg xmlns=\"http://www.w3.org/2000/svg\" height=\"24px\" viewBox=\"0 -960 960 960\">\n",
              "    <path d=\"M120-120v-720h720v720H120Zm60-500h600v-160H180v160Zm220 220h160v-160H400v160Zm0 220h160v-160H400v160ZM180-400h160v-160H180v160Zm440 0h160v-160H620v160ZM180-180h160v-160H180v160Zm440 0h160v-160H620v160Z\"/>\n",
              "  </svg>\n",
              "    </button>\n",
              "\n",
              "  <style>\n",
              "    .colab-df-container {\n",
              "      display:flex;\n",
              "      gap: 12px;\n",
              "    }\n",
              "\n",
              "    .colab-df-convert {\n",
              "      background-color: #E8F0FE;\n",
              "      border: none;\n",
              "      border-radius: 50%;\n",
              "      cursor: pointer;\n",
              "      display: none;\n",
              "      fill: #1967D2;\n",
              "      height: 32px;\n",
              "      padding: 0 0 0 0;\n",
              "      width: 32px;\n",
              "    }\n",
              "\n",
              "    .colab-df-convert:hover {\n",
              "      background-color: #E2EBFA;\n",
              "      box-shadow: 0px 1px 2px rgba(60, 64, 67, 0.3), 0px 1px 3px 1px rgba(60, 64, 67, 0.15);\n",
              "      fill: #174EA6;\n",
              "    }\n",
              "\n",
              "    .colab-df-buttons div {\n",
              "      margin-bottom: 4px;\n",
              "    }\n",
              "\n",
              "    [theme=dark] .colab-df-convert {\n",
              "      background-color: #3B4455;\n",
              "      fill: #D2E3FC;\n",
              "    }\n",
              "\n",
              "    [theme=dark] .colab-df-convert:hover {\n",
              "      background-color: #434B5C;\n",
              "      box-shadow: 0px 1px 3px 1px rgba(0, 0, 0, 0.15);\n",
              "      filter: drop-shadow(0px 1px 2px rgba(0, 0, 0, 0.3));\n",
              "      fill: #FFFFFF;\n",
              "    }\n",
              "  </style>\n",
              "\n",
              "    <script>\n",
              "      const buttonEl =\n",
              "        document.querySelector('#df-b0b619b3-6445-434e-89c7-182e2a8ddb78 button.colab-df-convert');\n",
              "      buttonEl.style.display =\n",
              "        google.colab.kernel.accessAllowed ? 'block' : 'none';\n",
              "\n",
              "      async function convertToInteractive(key) {\n",
              "        const element = document.querySelector('#df-b0b619b3-6445-434e-89c7-182e2a8ddb78');\n",
              "        const dataTable =\n",
              "          await google.colab.kernel.invokeFunction('convertToInteractive',\n",
              "                                                    [key], {});\n",
              "        if (!dataTable) return;\n",
              "\n",
              "        const docLinkHtml = 'Like what you see? Visit the ' +\n",
              "          '<a target=\"_blank\" href=https://colab.research.google.com/notebooks/data_table.ipynb>data table notebook</a>'\n",
              "          + ' to learn more about interactive tables.';\n",
              "        element.innerHTML = '';\n",
              "        dataTable['output_type'] = 'display_data';\n",
              "        await google.colab.output.renderOutput(dataTable, element);\n",
              "        const docLink = document.createElement('div');\n",
              "        docLink.innerHTML = docLinkHtml;\n",
              "        element.appendChild(docLink);\n",
              "      }\n",
              "    </script>\n",
              "  </div>\n",
              "\n",
              "\n",
              "<div id=\"df-52adaf87-3453-46d8-87b7-e9897e8bf6ec\">\n",
              "  <button class=\"colab-df-quickchart\" onclick=\"quickchart('df-52adaf87-3453-46d8-87b7-e9897e8bf6ec')\"\n",
              "            title=\"Suggest charts\"\n",
              "            style=\"display:none;\">\n",
              "\n",
              "<svg xmlns=\"http://www.w3.org/2000/svg\" height=\"24px\"viewBox=\"0 0 24 24\"\n",
              "     width=\"24px\">\n",
              "    <g>\n",
              "        <path d=\"M19 3H5c-1.1 0-2 .9-2 2v14c0 1.1.9 2 2 2h14c1.1 0 2-.9 2-2V5c0-1.1-.9-2-2-2zM9 17H7v-7h2v7zm4 0h-2V7h2v10zm4 0h-2v-4h2v4z\"/>\n",
              "    </g>\n",
              "</svg>\n",
              "  </button>\n",
              "\n",
              "<style>\n",
              "  .colab-df-quickchart {\n",
              "      --bg-color: #E8F0FE;\n",
              "      --fill-color: #1967D2;\n",
              "      --hover-bg-color: #E2EBFA;\n",
              "      --hover-fill-color: #174EA6;\n",
              "      --disabled-fill-color: #AAA;\n",
              "      --disabled-bg-color: #DDD;\n",
              "  }\n",
              "\n",
              "  [theme=dark] .colab-df-quickchart {\n",
              "      --bg-color: #3B4455;\n",
              "      --fill-color: #D2E3FC;\n",
              "      --hover-bg-color: #434B5C;\n",
              "      --hover-fill-color: #FFFFFF;\n",
              "      --disabled-bg-color: #3B4455;\n",
              "      --disabled-fill-color: #666;\n",
              "  }\n",
              "\n",
              "  .colab-df-quickchart {\n",
              "    background-color: var(--bg-color);\n",
              "    border: none;\n",
              "    border-radius: 50%;\n",
              "    cursor: pointer;\n",
              "    display: none;\n",
              "    fill: var(--fill-color);\n",
              "    height: 32px;\n",
              "    padding: 0;\n",
              "    width: 32px;\n",
              "  }\n",
              "\n",
              "  .colab-df-quickchart:hover {\n",
              "    background-color: var(--hover-bg-color);\n",
              "    box-shadow: 0 1px 2px rgba(60, 64, 67, 0.3), 0 1px 3px 1px rgba(60, 64, 67, 0.15);\n",
              "    fill: var(--button-hover-fill-color);\n",
              "  }\n",
              "\n",
              "  .colab-df-quickchart-complete:disabled,\n",
              "  .colab-df-quickchart-complete:disabled:hover {\n",
              "    background-color: var(--disabled-bg-color);\n",
              "    fill: var(--disabled-fill-color);\n",
              "    box-shadow: none;\n",
              "  }\n",
              "\n",
              "  .colab-df-spinner {\n",
              "    border: 2px solid var(--fill-color);\n",
              "    border-color: transparent;\n",
              "    border-bottom-color: var(--fill-color);\n",
              "    animation:\n",
              "      spin 1s steps(1) infinite;\n",
              "  }\n",
              "\n",
              "  @keyframes spin {\n",
              "    0% {\n",
              "      border-color: transparent;\n",
              "      border-bottom-color: var(--fill-color);\n",
              "      border-left-color: var(--fill-color);\n",
              "    }\n",
              "    20% {\n",
              "      border-color: transparent;\n",
              "      border-left-color: var(--fill-color);\n",
              "      border-top-color: var(--fill-color);\n",
              "    }\n",
              "    30% {\n",
              "      border-color: transparent;\n",
              "      border-left-color: var(--fill-color);\n",
              "      border-top-color: var(--fill-color);\n",
              "      border-right-color: var(--fill-color);\n",
              "    }\n",
              "    40% {\n",
              "      border-color: transparent;\n",
              "      border-right-color: var(--fill-color);\n",
              "      border-top-color: var(--fill-color);\n",
              "    }\n",
              "    60% {\n",
              "      border-color: transparent;\n",
              "      border-right-color: var(--fill-color);\n",
              "    }\n",
              "    80% {\n",
              "      border-color: transparent;\n",
              "      border-right-color: var(--fill-color);\n",
              "      border-bottom-color: var(--fill-color);\n",
              "    }\n",
              "    90% {\n",
              "      border-color: transparent;\n",
              "      border-bottom-color: var(--fill-color);\n",
              "    }\n",
              "  }\n",
              "</style>\n",
              "\n",
              "  <script>\n",
              "    async function quickchart(key) {\n",
              "      const quickchartButtonEl =\n",
              "        document.querySelector('#' + key + ' button');\n",
              "      quickchartButtonEl.disabled = true;  // To prevent multiple clicks.\n",
              "      quickchartButtonEl.classList.add('colab-df-spinner');\n",
              "      try {\n",
              "        const charts = await google.colab.kernel.invokeFunction(\n",
              "            'suggestCharts', [key], {});\n",
              "      } catch (error) {\n",
              "        console.error('Error during call to suggestCharts:', error);\n",
              "      }\n",
              "      quickchartButtonEl.classList.remove('colab-df-spinner');\n",
              "      quickchartButtonEl.classList.add('colab-df-quickchart-complete');\n",
              "    }\n",
              "    (() => {\n",
              "      let quickchartButtonEl =\n",
              "        document.querySelector('#df-52adaf87-3453-46d8-87b7-e9897e8bf6ec button');\n",
              "      quickchartButtonEl.style.display =\n",
              "        google.colab.kernel.accessAllowed ? 'block' : 'none';\n",
              "    })();\n",
              "  </script>\n",
              "</div>\n",
              "\n",
              "    </div>\n",
              "  </div>\n"
            ],
            "application/vnd.google.colaboratory.intrinsic+json": {
              "type": "dataframe",
              "variable_name": "oof_dfs",
              "summary": "{\n  \"name\": \"oof_dfs\",\n  \"rows\": 3489,\n  \"fields\": [\n    {\n      \"column\": \"pred_1\",\n      \"properties\": {\n        \"dtype\": \"number\",\n        \"std\": 0.09511776038817879,\n        \"min\": 0.2187548299936965,\n        \"max\": 0.7763167567707896,\n        \"num_unique_values\": 2825,\n        \"samples\": [\n          0.521255106473167,\n          0.36528989339473233,\n          0.3832661668446922\n        ],\n        \"semantic_type\": \"\",\n        \"description\": \"\"\n      }\n    },\n    {\n      \"column\": \"pred2\",\n      \"properties\": {\n        \"dtype\": \"number\",\n        \"std\": 0.14595615593391656,\n        \"min\": 0.05731596713114789,\n        \"max\": 0.9163476823543864,\n        \"num_unique_values\": 3157,\n        \"samples\": [\n          0.7527821121919451,\n          0.5801827481438661,\n          0.33243146380355576\n        ],\n        \"semantic_type\": \"\",\n        \"description\": \"\"\n      }\n    },\n    {\n      \"column\": \"pred3\",\n      \"properties\": {\n        \"dtype\": \"number\",\n        \"std\": 0.17058174329430728,\n        \"min\": 0.08416500230719133,\n        \"max\": 0.895762916473809,\n        \"num_unique_values\": 3210,\n        \"samples\": [\n          0.835027526324429,\n          0.3923671931862642,\n          0.2120368353290732\n        ],\n        \"semantic_type\": \"\",\n        \"description\": \"\"\n      }\n    },\n    {\n      \"column\": \"pred4\",\n      \"properties\": {\n        \"dtype\": \"number\",\n        \"std\": 0.13023992199978845,\n        \"min\": 0.16062232133602547,\n        \"max\": 0.799700977632691,\n        \"num_unique_values\": 3191,\n        \"samples\": [\n          0.40996407234933036,\n          0.21227636162955202,\n          0.5872250912756315\n        ],\n        \"semantic_type\": \"\",\n        \"description\": \"\"\n      }\n    },\n    {\n      \"column\": \"pred5\",\n      \"properties\": {\n        \"dtype\": \"number\",\n        \"std\": 0.08293016541484903,\n        \"min\": 0.287957997439372,\n        \"max\": 0.7164803576493025,\n        \"num_unique_values\": 3017,\n        \"samples\": [\n          0.40016249388122266,\n          0.5065771568147482,\n          0.456875815177768\n        ],\n        \"semantic_type\": \"\",\n        \"description\": \"\"\n      }\n    },\n    {\n      \"column\": \"ProdTaken\",\n      \"properties\": {\n        \"dtype\": \"number\",\n        \"std\": 0,\n        \"min\": 0,\n        \"max\": 1,\n        \"num_unique_values\": 2,\n        \"samples\": [\n          0,\n          1\n        ],\n        \"semantic_type\": \"\",\n        \"description\": \"\"\n      }\n    }\n  ]\n}"
            }
          },
          "metadata": {},
          "execution_count": 40
        }
      ]
    },
    {
      "cell_type": "code",
      "source": [
        "rank_df = pd.DataFrame()\n",
        "rank_df[\"pred_1\"] = oof_dfs[\"pred_1\"].rank(ascending=True)\n",
        "rank_df[\"pred_2\"] = oof_dfs[\"pred2\"].rank(ascending=True)\n",
        "rank_df[\"pred_3\"] = oof_dfs[\"pred3\"].rank(ascending=True)\n",
        "rank_df[\"pred_4\"] = oof_dfs[\"pred4\"].rank(ascending=True)\n",
        "rank_df[\"pred_5\"] = oof_dfs[\"pred5\"].rank(ascending=True)"
      ],
      "metadata": {
        "id": "vgsI7W3x_FCz"
      },
      "execution_count": null,
      "outputs": []
    },
    {
      "cell_type": "code",
      "source": [
        "rank_df[\"pred\"] = rank_df.mean(axis=1)"
      ],
      "metadata": {
        "id": "7FQW7jyL2nKp"
      },
      "execution_count": null,
      "outputs": []
    },
    {
      "cell_type": "code",
      "source": [
        "rank_df[\"pre\"] = rank_df[\"pred\"]/rank_df.shape[0]"
      ],
      "metadata": {
        "id": "jwHL_gREARGC"
      },
      "execution_count": null,
      "outputs": []
    },
    {
      "cell_type": "code",
      "source": [
        "rank_df[\"pre\"]"
      ],
      "metadata": {
        "colab": {
          "base_uri": "https://localhost:8080/",
          "height": 458
        },
        "id": "SFmYFsfhAapr",
        "outputId": "9b3155fe-15d6-4874-b41c-089ef6298e4c"
      },
      "execution_count": null,
      "outputs": [
        {
          "output_type": "execute_result",
          "data": {
            "text/plain": [
              "0       0.975007\n",
              "1       0.330868\n",
              "2       0.325824\n",
              "3       0.914761\n",
              "4       0.329149\n",
              "          ...   \n",
              "3484    0.111178\n",
              "3485    0.117598\n",
              "3486    0.123388\n",
              "3487    0.301691\n",
              "3488    0.683720\n",
              "Name: pre, Length: 3489, dtype: float64"
            ],
            "text/html": [
              "<div>\n",
              "<style scoped>\n",
              "    .dataframe tbody tr th:only-of-type {\n",
              "        vertical-align: middle;\n",
              "    }\n",
              "\n",
              "    .dataframe tbody tr th {\n",
              "        vertical-align: top;\n",
              "    }\n",
              "\n",
              "    .dataframe thead th {\n",
              "        text-align: right;\n",
              "    }\n",
              "</style>\n",
              "<table border=\"1\" class=\"dataframe\">\n",
              "  <thead>\n",
              "    <tr style=\"text-align: right;\">\n",
              "      <th></th>\n",
              "      <th>pre</th>\n",
              "    </tr>\n",
              "  </thead>\n",
              "  <tbody>\n",
              "    <tr>\n",
              "      <th>0</th>\n",
              "      <td>0.975007</td>\n",
              "    </tr>\n",
              "    <tr>\n",
              "      <th>1</th>\n",
              "      <td>0.330868</td>\n",
              "    </tr>\n",
              "    <tr>\n",
              "      <th>2</th>\n",
              "      <td>0.325824</td>\n",
              "    </tr>\n",
              "    <tr>\n",
              "      <th>3</th>\n",
              "      <td>0.914761</td>\n",
              "    </tr>\n",
              "    <tr>\n",
              "      <th>4</th>\n",
              "      <td>0.329149</td>\n",
              "    </tr>\n",
              "    <tr>\n",
              "      <th>...</th>\n",
              "      <td>...</td>\n",
              "    </tr>\n",
              "    <tr>\n",
              "      <th>3484</th>\n",
              "      <td>0.111178</td>\n",
              "    </tr>\n",
              "    <tr>\n",
              "      <th>3485</th>\n",
              "      <td>0.117598</td>\n",
              "    </tr>\n",
              "    <tr>\n",
              "      <th>3486</th>\n",
              "      <td>0.123388</td>\n",
              "    </tr>\n",
              "    <tr>\n",
              "      <th>3487</th>\n",
              "      <td>0.301691</td>\n",
              "    </tr>\n",
              "    <tr>\n",
              "      <th>3488</th>\n",
              "      <td>0.683720</td>\n",
              "    </tr>\n",
              "  </tbody>\n",
              "</table>\n",
              "<p>3489 rows × 1 columns</p>\n",
              "</div><br><label><b>dtype:</b> float64</label>"
            ]
          },
          "metadata": {},
          "execution_count": 56
        }
      ]
    },
    {
      "cell_type": "code",
      "source": [
        "rank_df[\"pred\"] = rank_df.shape[0]-rank_df[\"pred\"]"
      ],
      "metadata": {
        "id": "DtnJOrxb_llQ"
      },
      "execution_count": null,
      "outputs": []
    },
    {
      "cell_type": "code",
      "source": [
        "rank_df"
      ],
      "metadata": {
        "colab": {
          "base_uri": "https://localhost:8080/",
          "height": 423
        },
        "id": "xOYJPo3w_7p1",
        "outputId": "8eadcce4-37e3-457e-8873-d1529c2eb648"
      },
      "execution_count": null,
      "outputs": [
        {
          "output_type": "execute_result",
          "data": {
            "text/plain": [
              "      pred_1  pred_2  pred_3  pred_4  pred_5    pred       pre\n",
              "0     3481.0  3410.0  3289.0  3429.0  3400.0    87.2  0.975007\n",
              "1      282.0  1142.0  1704.0  1091.0  1553.0  2334.6  0.330868\n",
              "2      339.0  1276.0  1518.0   740.0  1811.0  2352.2  0.325824\n",
              "3     3396.0  3090.0  2828.0  3401.0  3243.0   297.4  0.914761\n",
              "4      564.0   948.0  1449.0  1032.0  1749.0  2340.6  0.329149\n",
              "...      ...     ...     ...     ...     ...     ...       ...\n",
              "3484  1143.5   264.0   313.0   130.0    89.0  3101.1  0.111178\n",
              "3485  1131.5   254.0   287.0   195.0   184.0  3078.7  0.117598\n",
              "3486  1358.0   432.0   226.0    44.0    92.5  3058.5  0.123388\n",
              "3487  1388.0   953.0   615.0  1517.0   790.0  2436.4  0.301691\n",
              "3488  2312.0  2474.5  2272.5  2355.5  2513.0  1103.5  0.683720\n",
              "\n",
              "[3489 rows x 7 columns]"
            ],
            "text/html": [
              "\n",
              "  <div id=\"df-fc865005-4add-4fef-bb23-fb0bd732ba24\" class=\"colab-df-container\">\n",
              "    <div>\n",
              "<style scoped>\n",
              "    .dataframe tbody tr th:only-of-type {\n",
              "        vertical-align: middle;\n",
              "    }\n",
              "\n",
              "    .dataframe tbody tr th {\n",
              "        vertical-align: top;\n",
              "    }\n",
              "\n",
              "    .dataframe thead th {\n",
              "        text-align: right;\n",
              "    }\n",
              "</style>\n",
              "<table border=\"1\" class=\"dataframe\">\n",
              "  <thead>\n",
              "    <tr style=\"text-align: right;\">\n",
              "      <th></th>\n",
              "      <th>pred_1</th>\n",
              "      <th>pred_2</th>\n",
              "      <th>pred_3</th>\n",
              "      <th>pred_4</th>\n",
              "      <th>pred_5</th>\n",
              "      <th>pred</th>\n",
              "      <th>pre</th>\n",
              "    </tr>\n",
              "  </thead>\n",
              "  <tbody>\n",
              "    <tr>\n",
              "      <th>0</th>\n",
              "      <td>3481.0</td>\n",
              "      <td>3410.0</td>\n",
              "      <td>3289.0</td>\n",
              "      <td>3429.0</td>\n",
              "      <td>3400.0</td>\n",
              "      <td>87.2</td>\n",
              "      <td>0.975007</td>\n",
              "    </tr>\n",
              "    <tr>\n",
              "      <th>1</th>\n",
              "      <td>282.0</td>\n",
              "      <td>1142.0</td>\n",
              "      <td>1704.0</td>\n",
              "      <td>1091.0</td>\n",
              "      <td>1553.0</td>\n",
              "      <td>2334.6</td>\n",
              "      <td>0.330868</td>\n",
              "    </tr>\n",
              "    <tr>\n",
              "      <th>2</th>\n",
              "      <td>339.0</td>\n",
              "      <td>1276.0</td>\n",
              "      <td>1518.0</td>\n",
              "      <td>740.0</td>\n",
              "      <td>1811.0</td>\n",
              "      <td>2352.2</td>\n",
              "      <td>0.325824</td>\n",
              "    </tr>\n",
              "    <tr>\n",
              "      <th>3</th>\n",
              "      <td>3396.0</td>\n",
              "      <td>3090.0</td>\n",
              "      <td>2828.0</td>\n",
              "      <td>3401.0</td>\n",
              "      <td>3243.0</td>\n",
              "      <td>297.4</td>\n",
              "      <td>0.914761</td>\n",
              "    </tr>\n",
              "    <tr>\n",
              "      <th>4</th>\n",
              "      <td>564.0</td>\n",
              "      <td>948.0</td>\n",
              "      <td>1449.0</td>\n",
              "      <td>1032.0</td>\n",
              "      <td>1749.0</td>\n",
              "      <td>2340.6</td>\n",
              "      <td>0.329149</td>\n",
              "    </tr>\n",
              "    <tr>\n",
              "      <th>...</th>\n",
              "      <td>...</td>\n",
              "      <td>...</td>\n",
              "      <td>...</td>\n",
              "      <td>...</td>\n",
              "      <td>...</td>\n",
              "      <td>...</td>\n",
              "      <td>...</td>\n",
              "    </tr>\n",
              "    <tr>\n",
              "      <th>3484</th>\n",
              "      <td>1143.5</td>\n",
              "      <td>264.0</td>\n",
              "      <td>313.0</td>\n",
              "      <td>130.0</td>\n",
              "      <td>89.0</td>\n",
              "      <td>3101.1</td>\n",
              "      <td>0.111178</td>\n",
              "    </tr>\n",
              "    <tr>\n",
              "      <th>3485</th>\n",
              "      <td>1131.5</td>\n",
              "      <td>254.0</td>\n",
              "      <td>287.0</td>\n",
              "      <td>195.0</td>\n",
              "      <td>184.0</td>\n",
              "      <td>3078.7</td>\n",
              "      <td>0.117598</td>\n",
              "    </tr>\n",
              "    <tr>\n",
              "      <th>3486</th>\n",
              "      <td>1358.0</td>\n",
              "      <td>432.0</td>\n",
              "      <td>226.0</td>\n",
              "      <td>44.0</td>\n",
              "      <td>92.5</td>\n",
              "      <td>3058.5</td>\n",
              "      <td>0.123388</td>\n",
              "    </tr>\n",
              "    <tr>\n",
              "      <th>3487</th>\n",
              "      <td>1388.0</td>\n",
              "      <td>953.0</td>\n",
              "      <td>615.0</td>\n",
              "      <td>1517.0</td>\n",
              "      <td>790.0</td>\n",
              "      <td>2436.4</td>\n",
              "      <td>0.301691</td>\n",
              "    </tr>\n",
              "    <tr>\n",
              "      <th>3488</th>\n",
              "      <td>2312.0</td>\n",
              "      <td>2474.5</td>\n",
              "      <td>2272.5</td>\n",
              "      <td>2355.5</td>\n",
              "      <td>2513.0</td>\n",
              "      <td>1103.5</td>\n",
              "      <td>0.683720</td>\n",
              "    </tr>\n",
              "  </tbody>\n",
              "</table>\n",
              "<p>3489 rows × 7 columns</p>\n",
              "</div>\n",
              "    <div class=\"colab-df-buttons\">\n",
              "\n",
              "  <div class=\"colab-df-container\">\n",
              "    <button class=\"colab-df-convert\" onclick=\"convertToInteractive('df-fc865005-4add-4fef-bb23-fb0bd732ba24')\"\n",
              "            title=\"Convert this dataframe to an interactive table.\"\n",
              "            style=\"display:none;\">\n",
              "\n",
              "  <svg xmlns=\"http://www.w3.org/2000/svg\" height=\"24px\" viewBox=\"0 -960 960 960\">\n",
              "    <path d=\"M120-120v-720h720v720H120Zm60-500h600v-160H180v160Zm220 220h160v-160H400v160Zm0 220h160v-160H400v160ZM180-400h160v-160H180v160Zm440 0h160v-160H620v160ZM180-180h160v-160H180v160Zm440 0h160v-160H620v160Z\"/>\n",
              "  </svg>\n",
              "    </button>\n",
              "\n",
              "  <style>\n",
              "    .colab-df-container {\n",
              "      display:flex;\n",
              "      gap: 12px;\n",
              "    }\n",
              "\n",
              "    .colab-df-convert {\n",
              "      background-color: #E8F0FE;\n",
              "      border: none;\n",
              "      border-radius: 50%;\n",
              "      cursor: pointer;\n",
              "      display: none;\n",
              "      fill: #1967D2;\n",
              "      height: 32px;\n",
              "      padding: 0 0 0 0;\n",
              "      width: 32px;\n",
              "    }\n",
              "\n",
              "    .colab-df-convert:hover {\n",
              "      background-color: #E2EBFA;\n",
              "      box-shadow: 0px 1px 2px rgba(60, 64, 67, 0.3), 0px 1px 3px 1px rgba(60, 64, 67, 0.15);\n",
              "      fill: #174EA6;\n",
              "    }\n",
              "\n",
              "    .colab-df-buttons div {\n",
              "      margin-bottom: 4px;\n",
              "    }\n",
              "\n",
              "    [theme=dark] .colab-df-convert {\n",
              "      background-color: #3B4455;\n",
              "      fill: #D2E3FC;\n",
              "    }\n",
              "\n",
              "    [theme=dark] .colab-df-convert:hover {\n",
              "      background-color: #434B5C;\n",
              "      box-shadow: 0px 1px 3px 1px rgba(0, 0, 0, 0.15);\n",
              "      filter: drop-shadow(0px 1px 2px rgba(0, 0, 0, 0.3));\n",
              "      fill: #FFFFFF;\n",
              "    }\n",
              "  </style>\n",
              "\n",
              "    <script>\n",
              "      const buttonEl =\n",
              "        document.querySelector('#df-fc865005-4add-4fef-bb23-fb0bd732ba24 button.colab-df-convert');\n",
              "      buttonEl.style.display =\n",
              "        google.colab.kernel.accessAllowed ? 'block' : 'none';\n",
              "\n",
              "      async function convertToInteractive(key) {\n",
              "        const element = document.querySelector('#df-fc865005-4add-4fef-bb23-fb0bd732ba24');\n",
              "        const dataTable =\n",
              "          await google.colab.kernel.invokeFunction('convertToInteractive',\n",
              "                                                    [key], {});\n",
              "        if (!dataTable) return;\n",
              "\n",
              "        const docLinkHtml = 'Like what you see? Visit the ' +\n",
              "          '<a target=\"_blank\" href=https://colab.research.google.com/notebooks/data_table.ipynb>data table notebook</a>'\n",
              "          + ' to learn more about interactive tables.';\n",
              "        element.innerHTML = '';\n",
              "        dataTable['output_type'] = 'display_data';\n",
              "        await google.colab.output.renderOutput(dataTable, element);\n",
              "        const docLink = document.createElement('div');\n",
              "        docLink.innerHTML = docLinkHtml;\n",
              "        element.appendChild(docLink);\n",
              "      }\n",
              "    </script>\n",
              "  </div>\n",
              "\n",
              "\n",
              "<div id=\"df-dc261273-4a34-4ec3-8da5-e41b10d719d7\">\n",
              "  <button class=\"colab-df-quickchart\" onclick=\"quickchart('df-dc261273-4a34-4ec3-8da5-e41b10d719d7')\"\n",
              "            title=\"Suggest charts\"\n",
              "            style=\"display:none;\">\n",
              "\n",
              "<svg xmlns=\"http://www.w3.org/2000/svg\" height=\"24px\"viewBox=\"0 0 24 24\"\n",
              "     width=\"24px\">\n",
              "    <g>\n",
              "        <path d=\"M19 3H5c-1.1 0-2 .9-2 2v14c0 1.1.9 2 2 2h14c1.1 0 2-.9 2-2V5c0-1.1-.9-2-2-2zM9 17H7v-7h2v7zm4 0h-2V7h2v10zm4 0h-2v-4h2v4z\"/>\n",
              "    </g>\n",
              "</svg>\n",
              "  </button>\n",
              "\n",
              "<style>\n",
              "  .colab-df-quickchart {\n",
              "      --bg-color: #E8F0FE;\n",
              "      --fill-color: #1967D2;\n",
              "      --hover-bg-color: #E2EBFA;\n",
              "      --hover-fill-color: #174EA6;\n",
              "      --disabled-fill-color: #AAA;\n",
              "      --disabled-bg-color: #DDD;\n",
              "  }\n",
              "\n",
              "  [theme=dark] .colab-df-quickchart {\n",
              "      --bg-color: #3B4455;\n",
              "      --fill-color: #D2E3FC;\n",
              "      --hover-bg-color: #434B5C;\n",
              "      --hover-fill-color: #FFFFFF;\n",
              "      --disabled-bg-color: #3B4455;\n",
              "      --disabled-fill-color: #666;\n",
              "  }\n",
              "\n",
              "  .colab-df-quickchart {\n",
              "    background-color: var(--bg-color);\n",
              "    border: none;\n",
              "    border-radius: 50%;\n",
              "    cursor: pointer;\n",
              "    display: none;\n",
              "    fill: var(--fill-color);\n",
              "    height: 32px;\n",
              "    padding: 0;\n",
              "    width: 32px;\n",
              "  }\n",
              "\n",
              "  .colab-df-quickchart:hover {\n",
              "    background-color: var(--hover-bg-color);\n",
              "    box-shadow: 0 1px 2px rgba(60, 64, 67, 0.3), 0 1px 3px 1px rgba(60, 64, 67, 0.15);\n",
              "    fill: var(--button-hover-fill-color);\n",
              "  }\n",
              "\n",
              "  .colab-df-quickchart-complete:disabled,\n",
              "  .colab-df-quickchart-complete:disabled:hover {\n",
              "    background-color: var(--disabled-bg-color);\n",
              "    fill: var(--disabled-fill-color);\n",
              "    box-shadow: none;\n",
              "  }\n",
              "\n",
              "  .colab-df-spinner {\n",
              "    border: 2px solid var(--fill-color);\n",
              "    border-color: transparent;\n",
              "    border-bottom-color: var(--fill-color);\n",
              "    animation:\n",
              "      spin 1s steps(1) infinite;\n",
              "  }\n",
              "\n",
              "  @keyframes spin {\n",
              "    0% {\n",
              "      border-color: transparent;\n",
              "      border-bottom-color: var(--fill-color);\n",
              "      border-left-color: var(--fill-color);\n",
              "    }\n",
              "    20% {\n",
              "      border-color: transparent;\n",
              "      border-left-color: var(--fill-color);\n",
              "      border-top-color: var(--fill-color);\n",
              "    }\n",
              "    30% {\n",
              "      border-color: transparent;\n",
              "      border-left-color: var(--fill-color);\n",
              "      border-top-color: var(--fill-color);\n",
              "      border-right-color: var(--fill-color);\n",
              "    }\n",
              "    40% {\n",
              "      border-color: transparent;\n",
              "      border-right-color: var(--fill-color);\n",
              "      border-top-color: var(--fill-color);\n",
              "    }\n",
              "    60% {\n",
              "      border-color: transparent;\n",
              "      border-right-color: var(--fill-color);\n",
              "    }\n",
              "    80% {\n",
              "      border-color: transparent;\n",
              "      border-right-color: var(--fill-color);\n",
              "      border-bottom-color: var(--fill-color);\n",
              "    }\n",
              "    90% {\n",
              "      border-color: transparent;\n",
              "      border-bottom-color: var(--fill-color);\n",
              "    }\n",
              "  }\n",
              "</style>\n",
              "\n",
              "  <script>\n",
              "    async function quickchart(key) {\n",
              "      const quickchartButtonEl =\n",
              "        document.querySelector('#' + key + ' button');\n",
              "      quickchartButtonEl.disabled = true;  // To prevent multiple clicks.\n",
              "      quickchartButtonEl.classList.add('colab-df-spinner');\n",
              "      try {\n",
              "        const charts = await google.colab.kernel.invokeFunction(\n",
              "            'suggestCharts', [key], {});\n",
              "      } catch (error) {\n",
              "        console.error('Error during call to suggestCharts:', error);\n",
              "      }\n",
              "      quickchartButtonEl.classList.remove('colab-df-spinner');\n",
              "      quickchartButtonEl.classList.add('colab-df-quickchart-complete');\n",
              "    }\n",
              "    (() => {\n",
              "      let quickchartButtonEl =\n",
              "        document.querySelector('#df-dc261273-4a34-4ec3-8da5-e41b10d719d7 button');\n",
              "      quickchartButtonEl.style.display =\n",
              "        google.colab.kernel.accessAllowed ? 'block' : 'none';\n",
              "    })();\n",
              "  </script>\n",
              "</div>\n",
              "\n",
              "  <div id=\"id_cc039d6b-9015-429a-9531-891dc3bb4005\">\n",
              "    <style>\n",
              "      .colab-df-generate {\n",
              "        background-color: #E8F0FE;\n",
              "        border: none;\n",
              "        border-radius: 50%;\n",
              "        cursor: pointer;\n",
              "        display: none;\n",
              "        fill: #1967D2;\n",
              "        height: 32px;\n",
              "        padding: 0 0 0 0;\n",
              "        width: 32px;\n",
              "      }\n",
              "\n",
              "      .colab-df-generate:hover {\n",
              "        background-color: #E2EBFA;\n",
              "        box-shadow: 0px 1px 2px rgba(60, 64, 67, 0.3), 0px 1px 3px 1px rgba(60, 64, 67, 0.15);\n",
              "        fill: #174EA6;\n",
              "      }\n",
              "\n",
              "      [theme=dark] .colab-df-generate {\n",
              "        background-color: #3B4455;\n",
              "        fill: #D2E3FC;\n",
              "      }\n",
              "\n",
              "      [theme=dark] .colab-df-generate:hover {\n",
              "        background-color: #434B5C;\n",
              "        box-shadow: 0px 1px 3px 1px rgba(0, 0, 0, 0.15);\n",
              "        filter: drop-shadow(0px 1px 2px rgba(0, 0, 0, 0.3));\n",
              "        fill: #FFFFFF;\n",
              "      }\n",
              "    </style>\n",
              "    <button class=\"colab-df-generate\" onclick=\"generateWithVariable('rank_df')\"\n",
              "            title=\"Generate code using this dataframe.\"\n",
              "            style=\"display:none;\">\n",
              "\n",
              "  <svg xmlns=\"http://www.w3.org/2000/svg\" height=\"24px\"viewBox=\"0 0 24 24\"\n",
              "       width=\"24px\">\n",
              "    <path d=\"M7,19H8.4L18.45,9,17,7.55,7,17.6ZM5,21V16.75L18.45,3.32a2,2,0,0,1,2.83,0l1.4,1.43a1.91,1.91,0,0,1,.58,1.4,1.91,1.91,0,0,1-.58,1.4L9.25,21ZM18.45,9,17,7.55Zm-12,3A5.31,5.31,0,0,0,4.9,8.1,5.31,5.31,0,0,0,1,6.5,5.31,5.31,0,0,0,4.9,4.9,5.31,5.31,0,0,0,6.5,1,5.31,5.31,0,0,0,8.1,4.9,5.31,5.31,0,0,0,12,6.5,5.46,5.46,0,0,0,6.5,12Z\"/>\n",
              "  </svg>\n",
              "    </button>\n",
              "    <script>\n",
              "      (() => {\n",
              "      const buttonEl =\n",
              "        document.querySelector('#id_cc039d6b-9015-429a-9531-891dc3bb4005 button.colab-df-generate');\n",
              "      buttonEl.style.display =\n",
              "        google.colab.kernel.accessAllowed ? 'block' : 'none';\n",
              "\n",
              "      buttonEl.onclick = () => {\n",
              "        google.colab.notebook.generateWithVariable('rank_df');\n",
              "      }\n",
              "      })();\n",
              "    </script>\n",
              "  </div>\n",
              "\n",
              "    </div>\n",
              "  </div>\n"
            ],
            "application/vnd.google.colaboratory.intrinsic+json": {
              "type": "dataframe",
              "variable_name": "rank_df",
              "summary": "{\n  \"name\": \"rank_df\",\n  \"rows\": 3489,\n  \"fields\": [\n    {\n      \"column\": \"pred_1\",\n      \"properties\": {\n        \"dtype\": \"number\",\n        \"std\": 1007.331564519495,\n        \"min\": 1.0,\n        \"max\": 3489.0,\n        \"num_unique_values\": 2825,\n        \"samples\": [\n          2514.0,\n          535.0,\n          732.0\n        ],\n        \"semantic_type\": \"\",\n        \"description\": \"\"\n      }\n    },\n    {\n      \"column\": \"pred_2\",\n      \"properties\": {\n        \"dtype\": \"number\",\n        \"std\": 1007.3317880099492,\n        \"min\": 1.0,\n        \"max\": 3489.0,\n        \"num_unique_values\": 3157,\n        \"samples\": [\n          3428.0,\n          2968.0,\n          941.0\n        ],\n        \"semantic_type\": \"\",\n        \"description\": \"\"\n      }\n    },\n    {\n      \"column\": \"pred_3\",\n      \"properties\": {\n        \"dtype\": \"number\",\n        \"std\": 1007.3317160746317,\n        \"min\": 1.0,\n        \"max\": 3489.0,\n        \"num_unique_values\": 3210,\n        \"samples\": [\n          3459.0,\n          1890.0,\n          521.0\n        ],\n        \"semantic_type\": \"\",\n        \"description\": \"\"\n      }\n    },\n    {\n      \"column\": \"pred_4\",\n      \"properties\": {\n        \"dtype\": \"number\",\n        \"std\": 1007.3318060827185,\n        \"min\": 1.0,\n        \"max\": 3489.0,\n        \"num_unique_values\": 3191,\n        \"samples\": [\n          1751.0,\n          120.0,\n          2959.0\n        ],\n        \"semantic_type\": \"\",\n        \"description\": \"\"\n      }\n    },\n    {\n      \"column\": \"pred_5\",\n      \"properties\": {\n        \"dtype\": \"number\",\n        \"std\": 1007.3317823888908,\n        \"min\": 1.5,\n        \"max\": 3489.0,\n        \"num_unique_values\": 3017,\n        \"samples\": [\n          1061.0,\n          2395.0,\n          2118.0\n        ],\n        \"semantic_type\": \"\",\n        \"description\": \"\"\n      }\n    },\n    {\n      \"column\": \"pred\",\n      \"properties\": {\n        \"dtype\": \"number\",\n        \"std\": 917.0290534951051,\n        \"min\": 46.19999999999982,\n        \"max\": 3219.0,\n        \"num_unique_values\": 3174,\n        \"samples\": [\n          485.3000000000002,\n          2654.6,\n          1803.9\n        ],\n        \"semantic_type\": \"\",\n        \"description\": \"\"\n      }\n    },\n    {\n      \"column\": \"pre\",\n      \"properties\": {\n        \"dtype\": \"number\",\n        \"std\": 0.2628343518186028,\n        \"min\": 0.07738607050730868,\n        \"max\": 0.9867583834909717,\n        \"num_unique_values\": 3174,\n        \"samples\": [\n          0.8609057036400114,\n          0.23915161937517912,\n          0.48297506448839206\n        ],\n        \"semantic_type\": \"\",\n        \"description\": \"\"\n      }\n    }\n  ]\n}"
            }
          },
          "metadata": {},
          "execution_count": 59
        }
      ]
    },
    {
      "cell_type": "code",
      "source": [
        "roc_auc_score(oof_dfs[\"ProdTaken\"],rank_df[\"pre\"])"
      ],
      "metadata": {
        "colab": {
          "base_uri": "https://localhost:8080/"
        },
        "id": "WJT3Vucc2cUh",
        "outputId": "548faabd-6988-4d1c-955f-5fcb9955862a"
      },
      "execution_count": null,
      "outputs": [
        {
          "output_type": "execute_result",
          "data": {
            "text/plain": [
              "0.816615602707152"
            ]
          },
          "metadata": {},
          "execution_count": 57
        }
      ]
    },
    {
      "cell_type": "code",
      "source": [
        "roc_auc_score(oof_dfs[\"ProdTaken\"],rank_df[\"pre\"])"
      ],
      "metadata": {
        "id": "CTw3k3IpAiTW",
        "outputId": "8bee49d9-7d94-415f-a34e-983fb2143cde",
        "colab": {
          "base_uri": "https://localhost:8080/"
        }
      },
      "execution_count": null,
      "outputs": [
        {
          "output_type": "execute_result",
          "data": {
            "text/plain": [
              "0.816615602707152"
            ]
          },
          "metadata": {},
          "execution_count": 60
        }
      ]
    },
    {
      "cell_type": "code",
      "source": [
        "features = []\n",
        "for i in range(5):\n",
        "    model = CatBoostClassifier()\n",
        "    model.load_model(f\"model_{i}\")\n",
        "    train_df = pd.read_csv(f\"model_{i}.csv\")\n",
        "    train_pool = Pool(train_df.drop(\"ProdTaken\",axis=1),train_df[\"ProdTaken\"],cat_features=cat_features)\n",
        "    feature = model.get_feature_importance(train_pool)\n",
        "    features.append(feature)"
      ],
      "metadata": {
        "id": "GHwbxcCQQbeK",
        "colab": {
          "base_uri": "https://localhost:8080/",
          "height": 437
        },
        "outputId": "177313b7-328c-4892-eabd-15302a2c106e"
      },
      "execution_count": null,
      "outputs": [
        {
          "output_type": "error",
          "ename": "CatBoostError",
          "evalue": "/src/catboost/catboost/libs/model/model_import_interface.h:19: Model file doesn't exist: model_0",
          "traceback": [
            "\u001b[0;31m---------------------------------------------------------------------------\u001b[0m",
            "\u001b[0;31mCatBoostError\u001b[0m                             Traceback (most recent call last)",
            "\u001b[0;32m<ipython-input-26-4bc53d0b0861>\u001b[0m in \u001b[0;36m<cell line: 2>\u001b[0;34m()\u001b[0m\n\u001b[1;32m      2\u001b[0m \u001b[0;32mfor\u001b[0m \u001b[0mi\u001b[0m \u001b[0;32min\u001b[0m \u001b[0mrange\u001b[0m\u001b[0;34m(\u001b[0m\u001b[0;36m5\u001b[0m\u001b[0;34m)\u001b[0m\u001b[0;34m:\u001b[0m\u001b[0;34m\u001b[0m\u001b[0;34m\u001b[0m\u001b[0m\n\u001b[1;32m      3\u001b[0m     \u001b[0mmodel\u001b[0m \u001b[0;34m=\u001b[0m \u001b[0mCatBoostClassifier\u001b[0m\u001b[0;34m(\u001b[0m\u001b[0;34m)\u001b[0m\u001b[0;34m\u001b[0m\u001b[0;34m\u001b[0m\u001b[0m\n\u001b[0;32m----> 4\u001b[0;31m     \u001b[0mmodel\u001b[0m\u001b[0;34m.\u001b[0m\u001b[0mload_model\u001b[0m\u001b[0;34m(\u001b[0m\u001b[0;34mf\"model_{i}\"\u001b[0m\u001b[0;34m)\u001b[0m\u001b[0;34m\u001b[0m\u001b[0;34m\u001b[0m\u001b[0m\n\u001b[0m\u001b[1;32m      5\u001b[0m     \u001b[0mtrain_df\u001b[0m \u001b[0;34m=\u001b[0m \u001b[0mpd\u001b[0m\u001b[0;34m.\u001b[0m\u001b[0mread_csv\u001b[0m\u001b[0;34m(\u001b[0m\u001b[0;34mf\"model_{i}.csv\"\u001b[0m\u001b[0;34m)\u001b[0m\u001b[0;34m\u001b[0m\u001b[0;34m\u001b[0m\u001b[0m\n\u001b[1;32m      6\u001b[0m     \u001b[0mtrain_pool\u001b[0m \u001b[0;34m=\u001b[0m \u001b[0mPool\u001b[0m\u001b[0;34m(\u001b[0m\u001b[0mtrain_df\u001b[0m\u001b[0;34m.\u001b[0m\u001b[0mdrop\u001b[0m\u001b[0;34m(\u001b[0m\u001b[0;34m\"ProdTaken\"\u001b[0m\u001b[0;34m,\u001b[0m\u001b[0maxis\u001b[0m\u001b[0;34m=\u001b[0m\u001b[0;36m1\u001b[0m\u001b[0;34m)\u001b[0m\u001b[0;34m,\u001b[0m\u001b[0mtrain_df\u001b[0m\u001b[0;34m[\u001b[0m\u001b[0;34m\"ProdTaken\"\u001b[0m\u001b[0;34m]\u001b[0m\u001b[0;34m,\u001b[0m\u001b[0mcat_features\u001b[0m\u001b[0;34m=\u001b[0m\u001b[0mcat_features\u001b[0m\u001b[0;34m)\u001b[0m\u001b[0;34m\u001b[0m\u001b[0;34m\u001b[0m\u001b[0m\n",
            "\u001b[0;32m/usr/local/lib/python3.10/dist-packages/catboost/core.py\u001b[0m in \u001b[0;36mload_model\u001b[0;34m(self, fname, format, stream, blob)\u001b[0m\n\u001b[1;32m   3429\u001b[0m \u001b[0;34m\u001b[0m\u001b[0m\n\u001b[1;32m   3430\u001b[0m         \u001b[0;32mif\u001b[0m \u001b[0mfname\u001b[0m \u001b[0;32mis\u001b[0m \u001b[0;32mnot\u001b[0m \u001b[0;32mNone\u001b[0m\u001b[0;34m:\u001b[0m\u001b[0;34m\u001b[0m\u001b[0;34m\u001b[0m\u001b[0m\n\u001b[0;32m-> 3431\u001b[0;31m             \u001b[0mself\u001b[0m\u001b[0;34m.\u001b[0m\u001b[0m_load_model\u001b[0m\u001b[0;34m(\u001b[0m\u001b[0mfname\u001b[0m\u001b[0;34m,\u001b[0m \u001b[0mformat\u001b[0m\u001b[0;34m)\u001b[0m\u001b[0;34m\u001b[0m\u001b[0;34m\u001b[0m\u001b[0m\n\u001b[0m\u001b[1;32m   3432\u001b[0m         \u001b[0;32melif\u001b[0m \u001b[0mstream\u001b[0m \u001b[0;32mis\u001b[0m \u001b[0;32mnot\u001b[0m \u001b[0;32mNone\u001b[0m\u001b[0;34m:\u001b[0m\u001b[0;34m\u001b[0m\u001b[0;34m\u001b[0m\u001b[0m\n\u001b[1;32m   3433\u001b[0m             \u001b[0mself\u001b[0m\u001b[0;34m.\u001b[0m\u001b[0m_load_from_stream\u001b[0m\u001b[0;34m(\u001b[0m\u001b[0mstream\u001b[0m\u001b[0;34m)\u001b[0m\u001b[0;34m\u001b[0m\u001b[0;34m\u001b[0m\u001b[0m\n",
            "\u001b[0;32m/usr/local/lib/python3.10/dist-packages/catboost/core.py\u001b[0m in \u001b[0;36m_load_model\u001b[0;34m(self, model_file, format)\u001b[0m\n\u001b[1;32m   1901\u001b[0m             \u001b[0;32mraise\u001b[0m \u001b[0mCatBoostError\u001b[0m\u001b[0;34m(\u001b[0m\u001b[0;34m\"Invalid fname type={}: must be str() or pathlib.Path().\"\u001b[0m\u001b[0;34m.\u001b[0m\u001b[0mformat\u001b[0m\u001b[0;34m(\u001b[0m\u001b[0mtype\u001b[0m\u001b[0;34m(\u001b[0m\u001b[0mmodel_file\u001b[0m\u001b[0;34m)\u001b[0m\u001b[0;34m)\u001b[0m\u001b[0;34m)\u001b[0m\u001b[0;34m\u001b[0m\u001b[0;34m\u001b[0m\u001b[0m\n\u001b[1;32m   1902\u001b[0m         \u001b[0mself\u001b[0m\u001b[0;34m.\u001b[0m\u001b[0m_init_params\u001b[0m \u001b[0;34m=\u001b[0m \u001b[0;34m{\u001b[0m\u001b[0;34m}\u001b[0m\u001b[0;34m\u001b[0m\u001b[0;34m\u001b[0m\u001b[0m\n\u001b[0;32m-> 1903\u001b[0;31m         \u001b[0mself\u001b[0m\u001b[0;34m.\u001b[0m\u001b[0m_object\u001b[0m\u001b[0;34m.\u001b[0m\u001b[0m_load_model\u001b[0m\u001b[0;34m(\u001b[0m\u001b[0mmodel_file\u001b[0m\u001b[0;34m,\u001b[0m \u001b[0mformat\u001b[0m\u001b[0;34m)\u001b[0m\u001b[0;34m\u001b[0m\u001b[0;34m\u001b[0m\u001b[0m\n\u001b[0m\u001b[1;32m   1904\u001b[0m         \u001b[0mself\u001b[0m\u001b[0;34m.\u001b[0m\u001b[0m_set_trained_model_attributes\u001b[0m\u001b[0;34m(\u001b[0m\u001b[0;34m)\u001b[0m\u001b[0;34m\u001b[0m\u001b[0;34m\u001b[0m\u001b[0m\n\u001b[1;32m   1905\u001b[0m         \u001b[0;32mfor\u001b[0m \u001b[0mkey\u001b[0m\u001b[0;34m,\u001b[0m \u001b[0mvalue\u001b[0m \u001b[0;32min\u001b[0m \u001b[0miteritems\u001b[0m\u001b[0;34m(\u001b[0m\u001b[0mself\u001b[0m\u001b[0;34m.\u001b[0m\u001b[0m_get_params\u001b[0m\u001b[0;34m(\u001b[0m\u001b[0;34m)\u001b[0m\u001b[0;34m)\u001b[0m\u001b[0;34m:\u001b[0m\u001b[0;34m\u001b[0m\u001b[0;34m\u001b[0m\u001b[0m\n",
            "\u001b[0;32m_catboost.pyx\u001b[0m in \u001b[0;36m_catboost._CatBoost._load_model\u001b[0;34m()\u001b[0m\n",
            "\u001b[0;32m_catboost.pyx\u001b[0m in \u001b[0;36m_catboost._CatBoost._load_model\u001b[0;34m()\u001b[0m\n",
            "\u001b[0;31mCatBoostError\u001b[0m: /src/catboost/catboost/libs/model/model_import_interface.h:19: Model file doesn't exist: model_0"
          ]
        }
      ]
    },
    {
      "cell_type": "code",
      "source": [
        "temp = pd.DataFrame(features,columns=feature_col)\n",
        "temp = temp.mean().reset_index(drop=False).rename(columns={\n",
        "    \"index\":\"feature\",\n",
        "    0:\"importance\"\n",
        "})"
      ],
      "metadata": {
        "id": "V1ecwJt9O923"
      },
      "execution_count": null,
      "outputs": []
    },
    {
      "cell_type": "code",
      "source": [
        "sns.barplot(y=\"feature\",x=\"importance\",data=temp.query(\"importance!=0\"))"
      ],
      "metadata": {
        "id": "h-a8Epj6O_el"
      },
      "execution_count": null,
      "outputs": []
    },
    {
      "cell_type": "code",
      "source": [
        "test"
      ],
      "metadata": {
        "id": "2ms58m0wg2sW"
      },
      "execution_count": null,
      "outputs": []
    },
    {
      "cell_type": "code",
      "source": [
        "sub = pd.read_csv(test_path)"
      ],
      "metadata": {
        "id": "4OuvmvVnz6fO"
      },
      "execution_count": null,
      "outputs": []
    },
    {
      "cell_type": "code",
      "source": [
        "\n",
        "test_pool = Pool(test,cat_features=cat_features)\n",
        "\n",
        "pred_df = pd.DataFrame()\n",
        "pred_df[\"id\"] = sub[\"id\"].copy()\n",
        "\n",
        "for i in range(5):\n",
        "  for j in range(5):\n",
        "    model = CatBoostClassifier()\n",
        "    model.load_model(f\"model_{i}_{j}\")\n",
        "    y_pred = model.predict_proba(test_pool)[:,1]\n",
        "    pred_df[f\"model_{i}_{j}\"] = y_pred"
      ],
      "metadata": {
        "id": "COILS6ROxN03"
      },
      "execution_count": null,
      "outputs": []
    },
    {
      "cell_type": "code",
      "source": [
        "pred_df[\"pred\"] = pred_df.iloc[:,1:].mean(axis=1)"
      ],
      "metadata": {
        "id": "p2xj-Tp-yM4D"
      },
      "execution_count": null,
      "outputs": []
    },
    {
      "cell_type": "code",
      "source": [
        "pred_df[[\"id\",\"pred\"]].to_csv(\"submission.csv\",index=False,header=False)"
      ],
      "metadata": {
        "id": "MREJ3BEL0Cdc"
      },
      "execution_count": null,
      "outputs": []
    },
    {
      "cell_type": "code",
      "source": [
        "pred_df"
      ],
      "metadata": {
        "id": "oCIPxk_d0K3e"
      },
      "execution_count": null,
      "outputs": []
    },
    {
      "cell_type": "code",
      "source": [],
      "metadata": {
        "id": "qwaVgIRM1Q6G"
      },
      "execution_count": null,
      "outputs": []
    }
  ]
}